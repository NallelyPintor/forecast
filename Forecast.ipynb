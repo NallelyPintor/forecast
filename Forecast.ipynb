{
 "cells": [
  {
   "cell_type": "markdown",
   "id": "b9806938-55cb-44c8-827a-d02a33d74312",
   "metadata": {},
   "source": [
    "Forecast"
   ]
  },
  {
   "cell_type": "code",
   "execution_count": 3,
   "id": "751aa89e-3e3a-465a-bc67-87e05cb44d92",
   "metadata": {},
   "outputs": [
    {
     "name": "stdout",
     "output_type": "stream",
     "text": [
      "Collecting zipfile36\n",
      "  Downloading zipfile36-0.1.3-py3-none-any.whl (20 kB)\n",
      "Installing collected packages: zipfile36\n",
      "Successfully installed zipfile36-0.1.3\n"
     ]
    }
   ],
   "source": [
    "#!pip install zipfile36"
   ]
  },
  {
   "cell_type": "code",
   "execution_count": 10,
   "id": "e8b8713b-7e64-41d2-8076-09d18939f306",
   "metadata": {},
   "outputs": [
    {
     "name": "stdout",
     "output_type": "stream",
     "text": [
      "Requirement already satisfied: requests in /home/jupyterlab/conda/envs/python/lib/python3.7/site-packages (2.26.0)\n",
      "Requirement already satisfied: certifi>=2017.4.17 in /home/jupyterlab/conda/envs/python/lib/python3.7/site-packages (from requests) (2021.10.8)\n",
      "Requirement already satisfied: urllib3<1.27,>=1.21.1 in /home/jupyterlab/conda/envs/python/lib/python3.7/site-packages (from requests) (1.26.7)\n",
      "Requirement already satisfied: idna<4,>=2.5 in /home/jupyterlab/conda/envs/python/lib/python3.7/site-packages (from requests) (3.1)\n",
      "Requirement already satisfied: charset-normalizer~=2.0.0 in /home/jupyterlab/conda/envs/python/lib/python3.7/site-packages (from requests) (2.0.8)\n"
     ]
    }
   ],
   "source": [
    "#!pip  install requests"
   ]
  },
  {
   "cell_type": "code",
   "execution_count": 62,
   "id": "e2b5b5b6-a7db-4e42-a329-33be93153fb9",
   "metadata": {},
   "outputs": [
    {
     "name": "stdout",
     "output_type": "stream",
     "text": [
      "Requirement already satisfied: skforecast in /home/jupyterlab/conda/envs/python/lib/python3.7/site-packages (0.4.2)\n",
      "Requirement already satisfied: statsmodels>=0.12.2 in /home/jupyterlab/conda/envs/python/lib/python3.7/site-packages (from skforecast) (0.12.2)\n",
      "Requirement already satisfied: pandas>=1.2.2 in /home/jupyterlab/conda/envs/python/lib/python3.7/site-packages (from skforecast) (1.3.4)\n",
      "Requirement already satisfied: numpy>=1.20.1 in /home/jupyterlab/conda/envs/python/lib/python3.7/site-packages (from skforecast) (1.21.4)\n",
      "Requirement already satisfied: tqdm>=4.57.0 in /home/jupyterlab/conda/envs/python/lib/python3.7/site-packages (from skforecast) (4.60.0)\n",
      "Requirement already satisfied: scikit-learn>=1.0.1 in /home/jupyterlab/conda/envs/python/lib/python3.7/site-packages (from skforecast) (1.0.2)\n",
      "Requirement already satisfied: python-dateutil>=2.7.3 in /home/jupyterlab/conda/envs/python/lib/python3.7/site-packages (from pandas>=1.2.2->skforecast) (2.8.2)\n",
      "Requirement already satisfied: pytz>=2017.3 in /home/jupyterlab/conda/envs/python/lib/python3.7/site-packages (from pandas>=1.2.2->skforecast) (2021.3)\n",
      "Requirement already satisfied: joblib>=0.11 in /home/jupyterlab/conda/envs/python/lib/python3.7/site-packages (from scikit-learn>=1.0.1->skforecast) (1.1.0)\n",
      "Requirement already satisfied: scipy>=1.1.0 in /home/jupyterlab/conda/envs/python/lib/python3.7/site-packages (from scikit-learn>=1.0.1->skforecast) (1.7.3)\n",
      "Requirement already satisfied: threadpoolctl>=2.0.0 in /home/jupyterlab/conda/envs/python/lib/python3.7/site-packages (from scikit-learn>=1.0.1->skforecast) (3.1.0)\n",
      "Requirement already satisfied: patsy>=0.5 in /home/jupyterlab/conda/envs/python/lib/python3.7/site-packages (from statsmodels>=0.12.2->skforecast) (0.5.2)\n",
      "Requirement already satisfied: six in /home/jupyterlab/conda/envs/python/lib/python3.7/site-packages (from patsy>=0.5->statsmodels>=0.12.2->skforecast) (1.16.0)\n"
     ]
    }
   ],
   "source": [
    "!pip install skforecast"
   ]
  },
  {
   "cell_type": "code",
   "execution_count": 63,
   "id": "08cb0d3e-0bc0-45fc-a380-0460a8d028dd",
   "metadata": {},
   "outputs": [
    {
     "name": "stdout",
     "output_type": "stream",
     "text": [
      "Collecting skforecast==0.4.1\n",
      "  Downloading skforecast-0.4.1-py2.py3-none-any.whl (79 kB)\n",
      "     |████████████████████████████████| 79 kB 8.9 MB/s             \n",
      "\u001b[?25hRequirement already satisfied: statsmodels>=0.12.2 in /home/jupyterlab/conda/envs/python/lib/python3.7/site-packages (from skforecast==0.4.1) (0.12.2)\n",
      "Requirement already satisfied: pandas>=1.2.2 in /home/jupyterlab/conda/envs/python/lib/python3.7/site-packages (from skforecast==0.4.1) (1.3.4)\n",
      "Requirement already satisfied: numpy>=1.20.1 in /home/jupyterlab/conda/envs/python/lib/python3.7/site-packages (from skforecast==0.4.1) (1.21.4)\n",
      "Requirement already satisfied: tqdm>=4.57.0 in /home/jupyterlab/conda/envs/python/lib/python3.7/site-packages (from skforecast==0.4.1) (4.60.0)\n",
      "Requirement already satisfied: scikit-learn>=1.0.1 in /home/jupyterlab/conda/envs/python/lib/python3.7/site-packages (from skforecast==0.4.1) (1.0.2)\n",
      "Requirement already satisfied: python-dateutil>=2.7.3 in /home/jupyterlab/conda/envs/python/lib/python3.7/site-packages (from pandas>=1.2.2->skforecast==0.4.1) (2.8.2)\n",
      "Requirement already satisfied: pytz>=2017.3 in /home/jupyterlab/conda/envs/python/lib/python3.7/site-packages (from pandas>=1.2.2->skforecast==0.4.1) (2021.3)\n",
      "Requirement already satisfied: joblib>=0.11 in /home/jupyterlab/conda/envs/python/lib/python3.7/site-packages (from scikit-learn>=1.0.1->skforecast==0.4.1) (1.1.0)\n",
      "Requirement already satisfied: scipy>=1.1.0 in /home/jupyterlab/conda/envs/python/lib/python3.7/site-packages (from scikit-learn>=1.0.1->skforecast==0.4.1) (1.7.3)\n",
      "Requirement already satisfied: threadpoolctl>=2.0.0 in /home/jupyterlab/conda/envs/python/lib/python3.7/site-packages (from scikit-learn>=1.0.1->skforecast==0.4.1) (3.1.0)\n",
      "Requirement already satisfied: patsy>=0.5 in /home/jupyterlab/conda/envs/python/lib/python3.7/site-packages (from statsmodels>=0.12.2->skforecast==0.4.1) (0.5.2)\n",
      "Requirement already satisfied: six in /home/jupyterlab/conda/envs/python/lib/python3.7/site-packages (from patsy>=0.5->statsmodels>=0.12.2->skforecast==0.4.1) (1.16.0)\n",
      "Installing collected packages: skforecast\n",
      "  Attempting uninstall: skforecast\n",
      "    Found existing installation: skforecast 0.4.2\n",
      "    Uninstalling skforecast-0.4.2:\n",
      "      Successfully uninstalled skforecast-0.4.2\n",
      "Successfully installed skforecast-0.4.1\n",
      "Note: you may need to restart the kernel to use updated packages.\n"
     ]
    }
   ],
   "source": [
    "pip install skforecast==0.4.1"
   ]
  },
  {
   "cell_type": "code",
   "execution_count": 1,
   "id": "5dce017e-ea49-4760-9189-a27aed0b0777",
   "metadata": {},
   "outputs": [
    {
     "name": "stdout",
     "output_type": "stream",
     "text": [
      "Requirement already satisfied: scikit-learn in /home/jupyterlab/conda/envs/python/lib/python3.7/site-packages (1.0.2)\n",
      "Requirement already satisfied: joblib>=0.11 in /home/jupyterlab/conda/envs/python/lib/python3.7/site-packages (from scikit-learn) (1.1.0)\n",
      "Requirement already satisfied: scipy>=1.1.0 in /home/jupyterlab/conda/envs/python/lib/python3.7/site-packages (from scikit-learn) (1.7.3)\n",
      "Requirement already satisfied: numpy>=1.14.6 in /home/jupyterlab/conda/envs/python/lib/python3.7/site-packages (from scikit-learn) (1.21.4)\n",
      "Requirement already satisfied: threadpoolctl>=2.0.0 in /home/jupyterlab/conda/envs/python/lib/python3.7/site-packages (from scikit-learn) (3.1.0)\n"
     ]
    }
   ],
   "source": [
    "!pip3 install -U scikit-learn"
   ]
  },
  {
   "cell_type": "code",
   "execution_count": 2,
   "id": "1a306e6f-1fdc-484a-8a51-d1ef7aabfd1f",
   "metadata": {},
   "outputs": [
    {
     "name": "stdout",
     "output_type": "stream",
     "text": [
      "Requirement already satisfied: statsmodels==0.12.2 in /home/jupyterlab/conda/envs/python/lib/python3.7/site-packages (0.12.2)\n",
      "Requirement already satisfied: scipy>=1.1 in /home/jupyterlab/conda/envs/python/lib/python3.7/site-packages (from statsmodels==0.12.2) (1.7.3)\n",
      "Requirement already satisfied: patsy>=0.5 in /home/jupyterlab/conda/envs/python/lib/python3.7/site-packages (from statsmodels==0.12.2) (0.5.2)\n",
      "Requirement already satisfied: pandas>=0.21 in /home/jupyterlab/conda/envs/python/lib/python3.7/site-packages (from statsmodels==0.12.2) (1.3.4)\n",
      "Requirement already satisfied: numpy>=1.15 in /home/jupyterlab/conda/envs/python/lib/python3.7/site-packages (from statsmodels==0.12.2) (1.21.4)\n",
      "Requirement already satisfied: python-dateutil>=2.7.3 in /home/jupyterlab/conda/envs/python/lib/python3.7/site-packages (from pandas>=0.21->statsmodels==0.12.2) (2.8.2)\n",
      "Requirement already satisfied: pytz>=2017.3 in /home/jupyterlab/conda/envs/python/lib/python3.7/site-packages (from pandas>=0.21->statsmodels==0.12.2) (2021.3)\n",
      "Requirement already satisfied: six in /home/jupyterlab/conda/envs/python/lib/python3.7/site-packages (from patsy>=0.5->statsmodels==0.12.2) (1.16.0)\n"
     ]
    }
   ],
   "source": [
    "!pip install statsmodels==0.12.2"
   ]
  },
  {
   "cell_type": "code",
   "execution_count": 3,
   "id": "3b11301f-1ee3-4b68-9fca-262517318abc",
   "metadata": {},
   "outputs": [
    {
     "name": "stdout",
     "output_type": "stream",
     "text": [
      "Requirement already satisfied: skforecast in /home/jupyterlab/conda/envs/python/lib/python3.7/site-packages (0.4.1)\n",
      "Requirement already satisfied: statsmodels>=0.12.2 in /home/jupyterlab/conda/envs/python/lib/python3.7/site-packages (from skforecast) (0.12.2)\n",
      "Requirement already satisfied: pandas>=1.2.2 in /home/jupyterlab/conda/envs/python/lib/python3.7/site-packages (from skforecast) (1.3.4)\n",
      "Requirement already satisfied: numpy>=1.20.1 in /home/jupyterlab/conda/envs/python/lib/python3.7/site-packages (from skforecast) (1.21.4)\n",
      "Requirement already satisfied: tqdm>=4.57.0 in /home/jupyterlab/conda/envs/python/lib/python3.7/site-packages (from skforecast) (4.60.0)\n",
      "Requirement already satisfied: scikit-learn>=1.0.1 in /home/jupyterlab/conda/envs/python/lib/python3.7/site-packages (from skforecast) (1.0.2)\n",
      "Requirement already satisfied: python-dateutil>=2.7.3 in /home/jupyterlab/conda/envs/python/lib/python3.7/site-packages (from pandas>=1.2.2->skforecast) (2.8.2)\n",
      "Requirement already satisfied: pytz>=2017.3 in /home/jupyterlab/conda/envs/python/lib/python3.7/site-packages (from pandas>=1.2.2->skforecast) (2021.3)\n",
      "Requirement already satisfied: joblib>=0.11 in /home/jupyterlab/conda/envs/python/lib/python3.7/site-packages (from scikit-learn>=1.0.1->skforecast) (1.1.0)\n",
      "Requirement already satisfied: scipy>=1.1.0 in /home/jupyterlab/conda/envs/python/lib/python3.7/site-packages (from scikit-learn>=1.0.1->skforecast) (1.7.3)\n",
      "Requirement already satisfied: threadpoolctl>=2.0.0 in /home/jupyterlab/conda/envs/python/lib/python3.7/site-packages (from scikit-learn>=1.0.1->skforecast) (3.1.0)\n",
      "Requirement already satisfied: patsy>=0.5 in /home/jupyterlab/conda/envs/python/lib/python3.7/site-packages (from statsmodels>=0.12.2->skforecast) (0.5.2)\n",
      "Requirement already satisfied: six in /home/jupyterlab/conda/envs/python/lib/python3.7/site-packages (from patsy>=0.5->statsmodels>=0.12.2->skforecast) (1.16.0)\n"
     ]
    }
   ],
   "source": [
    "!pip install skforecast"
   ]
  },
  {
   "cell_type": "code",
   "execution_count": 18,
   "id": "61cd7007-d41e-4c31-9932-e157e0c4346a",
   "metadata": {},
   "outputs": [
    {
     "name": "stdout",
     "output_type": "stream",
     "text": [
      "Collecting git+https://github.com/JoaquinAmatRodrigo/skforecast#master\n",
      "  Cloning https://github.com/JoaquinAmatRodrigo/skforecast to /tmp/pip-req-build-8mt8l8dm\n",
      "  Running command git clone --filter=blob:none -q https://github.com/JoaquinAmatRodrigo/skforecast /tmp/pip-req-build-8mt8l8dm\n",
      "  Resolved https://github.com/JoaquinAmatRodrigo/skforecast to commit 5ad6f6aa67129713b93bda1df2919687e788d7ee\n",
      "  Preparing metadata (setup.py) ... \u001b[?25ldone\n",
      "\u001b[?25hRequirement already satisfied: numpy<=1.22,>=1.20 in /home/jupyterlab/conda/envs/python/lib/python3.7/site-packages (from skforecast==0.4.3.dev5) (1.21.4)\n",
      "Requirement already satisfied: pandas<=1.4,>=1.2 in /home/jupyterlab/conda/envs/python/lib/python3.7/site-packages (from skforecast==0.4.3.dev5) (1.3.4)\n",
      "Requirement already satisfied: tqdm<=4.62,>=4.57.0 in /home/jupyterlab/conda/envs/python/lib/python3.7/site-packages (from skforecast==0.4.3.dev5) (4.60.0)\n",
      "Requirement already satisfied: scikit-learn>=1.0 in /home/jupyterlab/conda/envs/python/lib/python3.7/site-packages (from skforecast==0.4.3.dev5) (1.0.2)\n",
      "Requirement already satisfied: statsmodels<=0.13,>=0.12 in /home/jupyterlab/conda/envs/python/lib/python3.7/site-packages (from skforecast==0.4.3.dev5) (0.12.2)\n",
      "Requirement already satisfied: python-dateutil>=2.7.3 in /home/jupyterlab/conda/envs/python/lib/python3.7/site-packages (from pandas<=1.4,>=1.2->skforecast==0.4.3.dev5) (2.8.2)\n",
      "Requirement already satisfied: pytz>=2017.3 in /home/jupyterlab/conda/envs/python/lib/python3.7/site-packages (from pandas<=1.4,>=1.2->skforecast==0.4.3.dev5) (2021.3)\n",
      "Requirement already satisfied: joblib>=0.11 in /home/jupyterlab/conda/envs/python/lib/python3.7/site-packages (from scikit-learn>=1.0->skforecast==0.4.3.dev5) (1.1.0)\n",
      "Requirement already satisfied: scipy>=1.1.0 in /home/jupyterlab/conda/envs/python/lib/python3.7/site-packages (from scikit-learn>=1.0->skforecast==0.4.3.dev5) (1.7.3)\n",
      "Requirement already satisfied: threadpoolctl>=2.0.0 in /home/jupyterlab/conda/envs/python/lib/python3.7/site-packages (from scikit-learn>=1.0->skforecast==0.4.3.dev5) (3.1.0)\n",
      "Requirement already satisfied: patsy>=0.5 in /home/jupyterlab/conda/envs/python/lib/python3.7/site-packages (from statsmodels<=0.13,>=0.12->skforecast==0.4.3.dev5) (0.5.2)\n",
      "Requirement already satisfied: six in /home/jupyterlab/conda/envs/python/lib/python3.7/site-packages (from patsy>=0.5->statsmodels<=0.13,>=0.12->skforecast==0.4.3.dev5) (1.16.0)\n",
      "Building wheels for collected packages: skforecast\n",
      "  Building wheel for skforecast (setup.py) ... \u001b[?25ldone\n",
      "\u001b[?25h  Created wheel for skforecast: filename=skforecast-0.4.3.dev5-py3-none-any.whl size=83525 sha256=3ff3ff317dacc21cb69d21540ed3021eae6489e6d458b71cc00d3e0bc8dc3920\n",
      "  Stored in directory: /tmp/pip-ephem-wheel-cache-a6_b0_0j/wheels/79/bf/aa/dfe103d1c0cdc8326cc1fda1f9338daaa2c0e4672719919162\n",
      "Successfully built skforecast\n",
      "Installing collected packages: skforecast\n",
      "  Attempting uninstall: skforecast\n",
      "    Found existing installation: skforecast 0.4.1\n",
      "    Uninstalling skforecast-0.4.1:\n",
      "      Successfully uninstalled skforecast-0.4.1\n",
      "Successfully installed skforecast-0.4.3.dev5\n"
     ]
    }
   ],
   "source": [
    "!pip install git+https://github.com/JoaquinAmatRodrigo/skforecast#master"
   ]
  },
  {
   "cell_type": "code",
   "execution_count": 19,
   "id": "dea79459-b99d-40bc-a373-98b86d9b1877",
   "metadata": {},
   "outputs": [],
   "source": [
    "# Modelado y Forecasting\n",
    "# ==============================================================================\n",
    "from sklearn.linear_model import LinearRegression\n",
    "from sklearn.linear_model import Lasso\n",
    "from sklearn.ensemble import RandomForestRegressor\n",
    "from sklearn.metrics import mean_squared_error\n",
    "from sklearn.preprocessing import StandardScaler\n",
    "from sklearn.pipeline import make_pipeline\n",
    "\n",
    "from skforecast.ForecasterAutoreg import ForecasterAutoreg\n",
    "from skforecast.ForecasterAutoregCustom import ForecasterAutoregCustom\n",
    "from skforecast.ForecasterAutoregMultiOutput import ForecasterAutoregMultiOutput\n",
    "from skforecast.model_selection import grid_search_forecaster\n",
    "from skforecast.model_selection import backtesting_forecaster\n",
    "\n",
    "from joblib import dump, load"
   ]
  },
  {
   "cell_type": "code",
   "execution_count": 71,
   "id": "0ac812bc-b6bd-445c-88bc-5956127ed738",
   "metadata": {},
   "outputs": [],
   "source": [
    "# Librerias\n",
    "# ==============================================================================\n",
    "import numpy as np \n",
    "import pandas as pd\n",
    "import matplotlib.pyplot as plt \n",
    "%matplotlib inline\n",
    "\n",
    "plt.style.use('fivethirtyeight')\n",
    "plt.rcParams['lines.linewidth'] = 1.5"
   ]
  },
  {
   "cell_type": "code",
   "execution_count": 20,
   "id": "0a3f6954-e058-4386-8bf2-0831e3722952",
   "metadata": {},
   "outputs": [],
   "source": [
    "# Descarga de datos\n",
    "# ==============================================================================\n",
    "import requests, zipfile, io\n",
    "url= 'https://docs.aws.amazon.com/redshift/latest/gsg/samples/tickitdb.zip'"
   ]
  },
  {
   "cell_type": "code",
   "execution_count": 21,
   "id": "2d86f201-ce21-4eb6-9148-83e4ea2959d4",
   "metadata": {
    "tags": []
   },
   "outputs": [
    {
     "data": {
      "text/html": [
       "<div>\n",
       "<style scoped>\n",
       "    .dataframe tbody tr th:only-of-type {\n",
       "        vertical-align: middle;\n",
       "    }\n",
       "\n",
       "    .dataframe tbody tr th {\n",
       "        vertical-align: top;\n",
       "    }\n",
       "\n",
       "    .dataframe thead th {\n",
       "        text-align: right;\n",
       "    }\n",
       "</style>\n",
       "<table border=\"1\" class=\"dataframe\">\n",
       "  <thead>\n",
       "    <tr style=\"text-align: right;\">\n",
       "      <th></th>\n",
       "      <th>salesid</th>\n",
       "      <th>listid</th>\n",
       "      <th>sellerid</th>\n",
       "      <th>buyerid</th>\n",
       "      <th>eventid</th>\n",
       "      <th>dateid</th>\n",
       "      <th>qtysold</th>\n",
       "      <th>pricepaid</th>\n",
       "      <th>commission</th>\n",
       "    </tr>\n",
       "    <tr>\n",
       "      <th>saletime</th>\n",
       "      <th></th>\n",
       "      <th></th>\n",
       "      <th></th>\n",
       "      <th></th>\n",
       "      <th></th>\n",
       "      <th></th>\n",
       "      <th></th>\n",
       "      <th></th>\n",
       "      <th></th>\n",
       "    </tr>\n",
       "  </thead>\n",
       "  <tbody>\n",
       "    <tr>\n",
       "      <th>2008-01-06</th>\n",
       "      <td>31259741</td>\n",
       "      <td>36757331</td>\n",
       "      <td>8838506</td>\n",
       "      <td>685323</td>\n",
       "      <td>1617411</td>\n",
       "      <td>657124</td>\n",
       "      <td>720</td>\n",
       "      <td>244991</td>\n",
       "      <td>36748.65</td>\n",
       "    </tr>\n",
       "    <tr>\n",
       "      <th>2008-01-13</th>\n",
       "      <td>98391589</td>\n",
       "      <td>115414311</td>\n",
       "      <td>27569010</td>\n",
       "      <td>4860625</td>\n",
       "      <td>5072139</td>\n",
       "      <td>2128236</td>\n",
       "      <td>2331</td>\n",
       "      <td>734374</td>\n",
       "      <td>110156.10</td>\n",
       "    </tr>\n",
       "    <tr>\n",
       "      <th>2008-01-20</th>\n",
       "      <td>159069397</td>\n",
       "      <td>186614291</td>\n",
       "      <td>46967259</td>\n",
       "      <td>12769136</td>\n",
       "      <td>8093181</td>\n",
       "      <td>3503804</td>\n",
       "      <td>3852</td>\n",
       "      <td>1206758</td>\n",
       "      <td>181013.70</td>\n",
       "    </tr>\n",
       "    <tr>\n",
       "      <th>2008-01-27</th>\n",
       "      <td>209955257</td>\n",
       "      <td>247313004</td>\n",
       "      <td>61924520</td>\n",
       "      <td>22795263</td>\n",
       "      <td>10595574</td>\n",
       "      <td>4545639</td>\n",
       "      <td>4961</td>\n",
       "      <td>1613119</td>\n",
       "      <td>241967.85</td>\n",
       "    </tr>\n",
       "    <tr>\n",
       "      <th>2008-02-03</th>\n",
       "      <td>260630911</td>\n",
       "      <td>306021105</td>\n",
       "      <td>74688251</td>\n",
       "      <td>35251461</td>\n",
       "      <td>12844476</td>\n",
       "      <td>5569216</td>\n",
       "      <td>6021</td>\n",
       "      <td>1875270</td>\n",
       "      <td>281290.50</td>\n",
       "    </tr>\n",
       "  </tbody>\n",
       "</table>\n",
       "</div>"
      ],
      "text/plain": [
       "              salesid     listid  sellerid   buyerid   eventid   dateid  \\\n",
       "saletime                                                                  \n",
       "2008-01-06   31259741   36757331   8838506    685323   1617411   657124   \n",
       "2008-01-13   98391589  115414311  27569010   4860625   5072139  2128236   \n",
       "2008-01-20  159069397  186614291  46967259  12769136   8093181  3503804   \n",
       "2008-01-27  209955257  247313004  61924520  22795263  10595574  4545639   \n",
       "2008-02-03  260630911  306021105  74688251  35251461  12844476  5569216   \n",
       "\n",
       "            qtysold  pricepaid  commission  \n",
       "saletime                                    \n",
       "2008-01-06      720     244991    36748.65  \n",
       "2008-01-13     2331     734374   110156.10  \n",
       "2008-01-20     3852    1206758   181013.70  \n",
       "2008-01-27     4961    1613119   241967.85  \n",
       "2008-02-03     6021    1875270   281290.50  "
      ]
     },
     "execution_count": 21,
     "metadata": {},
     "output_type": "execute_result"
    }
   ],
   "source": [
    "# Preparación del dato\n",
    "# =============================================================================\n",
    "filename = 'sales_tab.txt'\n",
    "r = requests.get(url)\n",
    "z = zipfile.ZipFile(io.BytesIO(r.content))\n",
    "z.extractall()\n",
    "d = pd.read_csv(filename, sep='\\t',names=['salesid','listid','sellerid','buyerid','eventid','dateid','qtysold','pricepaid','commission', 'saletime'])\n",
    "#d = d.rename(columns={'x': 'y'})\n",
    "d['saletime']= pd.to_datetime(d[\"saletime\"])\n",
    "d = d.set_index('saletime')\n",
    "data=d.resample('W').sum() \n",
    "data = data.asfreq('W')\n",
    "data = data.sort_index()\n",
    "#print (data)\n",
    "data.head()\n",
    "\n"
   ]
  },
  {
   "cell_type": "code",
   "execution_count": 22,
   "id": "76a258af-8ffa-47c5-b91f-997e9567684e",
   "metadata": {},
   "outputs": [
    {
     "name": "stdout",
     "output_type": "stream",
     "text": [
      "53\n"
     ]
    }
   ],
   "source": [
    "#start=data.index.min()\n",
    "#end= data.index.max()\n",
    "samples=len(data)\n",
    "print(samples)\n",
    "#print(start, end, samples)"
   ]
  },
  {
   "cell_type": "code",
   "execution_count": 73,
   "id": "cecbaa24-5f18-476a-9c92-3bcfcdacc5f6",
   "metadata": {},
   "outputs": [
    {
     "name": "stdout",
     "output_type": "stream",
     "text": [
      "37\n",
      "16\n"
     ]
    }
   ],
   "source": [
    "n= int (len(data)*0.7) #37 semanas como conjunto de test para evaluar la capacidad predictiva del modelo.\n",
    "n_test=samples-n\n",
    "print(n)\n",
    "print(n_test)"
   ]
  },
  {
   "cell_type": "code",
   "execution_count": 74,
   "id": "772155bc-ad49-473d-9c5c-cfa5a2852686",
   "metadata": {},
   "outputs": [],
   "source": [
    "# Separación datos train-test\n",
    "# ==============================================================================\n",
    "#train=data[:n_train]  \n",
    "#test= data[n_train:] \n",
    "\n",
    "train=data[:-n]  \n",
    "test= data[-n:] "
   ]
  },
  {
   "cell_type": "code",
   "execution_count": 49,
   "id": "1479d35a-6831-4345-8500-1536d7652f74",
   "metadata": {},
   "outputs": [
    {
     "data": {
      "text/plain": [
       "[<matplotlib.lines.Line2D at 0x7f51e1fcfdd0>]"
      ]
     },
     "execution_count": 49,
     "metadata": {},
     "output_type": "execute_result"
    },
    {
     "data": {
      "image/png": "[encoded data removed]",
      "text/plain": [
       "<Figure size 432x288 with 1 Axes>"
      ]
     },
     "metadata": {},
     "output_type": "display_data"
    }
   ],
   "source": [
    "plt.plot(train['qtysold'],color='red',label='predicted')"
   ]
  },
  {
   "cell_type": "code",
   "execution_count": 75,
   "id": "1eb60d11-c413-4df4-bdf5-0fadfee51324",
   "metadata": {},
   "outputs": [
    {
     "data": {
      "text/plain": [
       "================= \n",
       "ForecasterAutoreg \n",
       "================= \n",
       "Regressor: RandomForestRegressor(random_state=123) \n",
       "Lags: [1 2 3 4 5 6] \n",
       "Window size: 6 \n",
       "Included exogenous: False \n",
       "Type of exogenous variable: None \n",
       "Exogenous variables names: None \n",
       "Training range: [Timestamp('2008-01-06 00:00:00'), Timestamp('2008-04-20 00:00:00')] \n",
       "Training index type: DatetimeIndex \n",
       "Training index frequency: W-SUN \n",
       "Regressor parameters: {'bootstrap': True, 'ccp_alpha': 0.0, 'criterion': 'squared_error', 'max_depth': None, 'max_features': 'auto', 'max_leaf_nodes': None, 'max_samples': None, 'min_impurity_decrease': 0.0, 'min_samples_leaf': 1, 'min_samples_split': 2, 'min_weight_fraction_leaf': 0.0, 'n_estimators': 100, 'n_jobs': None, 'oob_score': False, 'random_state': 123, 'verbose': 0, 'warm_start': False} \n",
       "Creation date: 2022-03-05 03:50:19 \n",
       "Last fit date: 2022-03-05 03:50:19 \n",
       "Skforecast version: 0.4.1 "
      ]
     },
     "execution_count": 75,
     "metadata": {},
     "output_type": "execute_result"
    }
   ],
   "source": [
    "# Crear y entrenar forecaster\n",
    "# ==============================================================================\n",
    "forecaster = ForecasterAutoreg(\n",
    "                regressor = RandomForestRegressor(random_state=123),\n",
    "                lags      = 6   #predictores: 16 semanas anteriores\n",
    "             )\n",
    "\n",
    "forecaster.fit(train['qtysold'])\n",
    "forecaster"
   ]
  },
  {
   "cell_type": "code",
   "execution_count": 76,
   "id": "29f62325-cb76-4890-af39-917a023ec479",
   "metadata": {},
   "outputs": [
    {
     "data": {
      "text/plain": [
       "2008-04-27    7241.53\n",
       "2008-05-04    7238.05\n",
       "2008-05-11    7237.03\n",
       "2008-05-18    7239.31\n",
       "2008-05-25    7237.03\n",
       "Freq: W-SUN, Name: pred, dtype: float64"
      ]
     },
     "execution_count": 76,
     "metadata": {},
     "output_type": "execute_result"
    }
   ],
   "source": [
    "# Predicciones\n",
    "# ==============================================================================\n",
    "\n",
    "steps = n  #Una vez entrenado el modelo, se predicen los datos de test (37 semanas a futuro).\n",
    "predicciones = forecaster.predict(steps=steps)\n",
    "predicciones.head(5)"
   ]
  },
  {
   "cell_type": "code",
   "execution_count": 77,
   "id": "17930381-004e-4349-8f2e-a62c9b355c8d",
   "metadata": {},
   "outputs": [
    {
     "data": {
      "image/png": "[encoded data removed]",
      "text/plain": [
       "<Figure size 648x288 with 1 Axes>"
      ]
     },
     "metadata": {},
     "output_type": "display_data"
    }
   ],
   "source": [
    "fig, ax = plt.subplots(figsize=(9, 4))\n",
    "train['qtysold'].plot(ax=ax, label='train')\n",
    "test['qtysold'].plot(ax=ax, label='test')\n",
    "predicciones.plot(ax=ax, label='predicciones')\n",
    "ax.legend();"
   ]
  },
  {
   "cell_type": "code",
   "execution_count": 78,
   "id": "3e7eeb05-e827-482c-994f-bc5cdab85f49",
   "metadata": {},
   "outputs": [
    {
     "name": "stdout",
     "output_type": "stream",
     "text": [
      "Error de test (mse): 3179774.9008135125\n"
     ]
    }
   ],
   "source": [
    "# Error\n",
    "# ==============================================================================\n",
    "error_mse = mean_squared_error(\n",
    "                y_true = test['qtysold'],\n",
    "                y_pred = predicciones\n",
    "            )\n",
    "print(f\"Error de test (mse): {error_mse}\")"
   ]
  },
  {
   "cell_type": "code",
   "execution_count": 79,
   "id": "0637baa1-d472-4f5c-a5a5-cf5ae6595858",
   "metadata": {},
   "outputs": [
    {
     "name": "stderr",
     "output_type": "stream",
     "text": [
      "loop lags_grid:   0%|                                               | 0/2 [00:00<?, ?it/s]\n",
      "loop param_grid:   0%|                                              | 0/6 [00:00<?, ?it/s]\u001b[A\n",
      "loop lags_grid:   0%|                                               | 0/2 [00:00<?, ?it/s]\u001b[A"
     ]
    },
    {
     "name": "stdout",
     "output_type": "stream",
     "text": [
      "Number of models compared: 12\n"
     ]
    },
    {
     "name": "stderr",
     "output_type": "stream",
     "text": [
      "\n"
     ]
    },
    {
     "ename": "Exception",
     "evalue": "`initial_train_size` must be greater than forecaster's window_size (10).",
     "output_type": "error",
     "traceback": [
      "\u001b[0;31m---------------------------------------------------------------------------\u001b[0m",
      "\u001b[0;31mException\u001b[0m                                 Traceback (most recent call last)",
      "\u001b[0;32m/tmp/ipykernel_968/990675440.py\u001b[0m in \u001b[0;36m<module>\u001b[0;34m\u001b[0m\n\u001b[1;32m     23\u001b[0m                         \u001b[0minitial_train_size\u001b[0m \u001b[0;34m=\u001b[0m \u001b[0mint\u001b[0m\u001b[0;34m(\u001b[0m\u001b[0mlen\u001b[0m\u001b[0;34m(\u001b[0m\u001b[0mtrain\u001b[0m\u001b[0;34m)\u001b[0m\u001b[0;34m*\u001b[0m\u001b[0;36m0.5\u001b[0m\u001b[0;34m)\u001b[0m\u001b[0;34m,\u001b[0m\u001b[0;34m\u001b[0m\u001b[0;34m\u001b[0m\u001b[0m\n\u001b[1;32m     24\u001b[0m                         \u001b[0mreturn_best\u001b[0m        \u001b[0;34m=\u001b[0m \u001b[0;32mTrue\u001b[0m\u001b[0;34m,\u001b[0m\u001b[0;34m\u001b[0m\u001b[0;34m\u001b[0m\u001b[0m\n\u001b[0;32m---> 25\u001b[0;31m                         \u001b[0mverbose\u001b[0m            \u001b[0;34m=\u001b[0m \u001b[0;32mFalse\u001b[0m\u001b[0;34m\u001b[0m\u001b[0;34m\u001b[0m\u001b[0m\n\u001b[0m\u001b[1;32m     26\u001b[0m                    )\n",
      "\u001b[0;32m~/conda/envs/python/lib/python3.7/site-packages/skforecast/model_selection/model_selection.py\u001b[0m in \u001b[0;36mgrid_search_forecaster\u001b[0;34m(forecaster, y, param_grid, initial_train_size, steps, metric, exog, lags_grid, refit, return_best, verbose)\u001b[0m\n\u001b[1;32m   1029\u001b[0m         \u001b[0mPrint\u001b[0m \u001b[0mnumber\u001b[0m \u001b[0mof\u001b[0m \u001b[0mfolds\u001b[0m \u001b[0mused\u001b[0m \u001b[0;32mfor\u001b[0m \u001b[0mcv\u001b[0m \u001b[0;32mor\u001b[0m \u001b[0mbacktesting\u001b[0m\u001b[0;34m.\u001b[0m\u001b[0;34m\u001b[0m\u001b[0;34m\u001b[0m\u001b[0m\n\u001b[1;32m   1030\u001b[0m \u001b[0;34m\u001b[0m\u001b[0m\n\u001b[0;32m-> 1031\u001b[0;31m     \u001b[0mReturns\u001b[0m\u001b[0;34m\u001b[0m\u001b[0;34m\u001b[0m\u001b[0m\n\u001b[0m\u001b[1;32m   1032\u001b[0m     \u001b[0;34m-\u001b[0m\u001b[0;34m-\u001b[0m\u001b[0;34m-\u001b[0m\u001b[0;34m-\u001b[0m\u001b[0;34m-\u001b[0m\u001b[0;34m-\u001b[0m\u001b[0;34m-\u001b[0m\u001b[0;34m\u001b[0m\u001b[0;34m\u001b[0m\u001b[0m\n\u001b[1;32m   1033\u001b[0m     \u001b[0mresults\u001b[0m\u001b[0;34m:\u001b[0m \u001b[0mpandas\u001b[0m \u001b[0mDataFrame\u001b[0m\u001b[0;34m\u001b[0m\u001b[0;34m\u001b[0m\u001b[0m\n",
      "\u001b[0;32m~/conda/envs/python/lib/python3.7/site-packages/skforecast/model_selection/model_selection.py\u001b[0m in \u001b[0;36mbacktesting_forecaster\u001b[0;34m(forecaster, y, steps, metric, initial_train_size, exog, refit, interval, n_boot, in_sample_residuals, set_out_sample_residuals, verbose)\u001b[0m\n\u001b[1;32m    869\u001b[0m         \u001b[0mintervals\u001b[0m\u001b[0;34m.\u001b[0m\u001b[0;34m\u001b[0m\u001b[0;34m\u001b[0m\u001b[0m\n\u001b[1;32m    870\u001b[0m \u001b[0;34m\u001b[0m\u001b[0m\n\u001b[0;32m--> 871\u001b[0;31m     \u001b[0mrandom_state\u001b[0m\u001b[0;34m:\u001b[0m \u001b[0mint\u001b[0m\u001b[0;34m,\u001b[0m \u001b[0mdefault\u001b[0m \u001b[0;36m123\u001b[0m\u001b[0;34m\u001b[0m\u001b[0;34m\u001b[0m\u001b[0m\n\u001b[0m\u001b[1;32m    872\u001b[0m         \u001b[0mSets\u001b[0m \u001b[0ma\u001b[0m \u001b[0mseed\u001b[0m \u001b[0mto\u001b[0m \u001b[0mthe\u001b[0m \u001b[0mrandom\u001b[0m \u001b[0mgenerator\u001b[0m\u001b[0;34m,\u001b[0m \u001b[0mso\u001b[0m \u001b[0mthat\u001b[0m \u001b[0mboot\u001b[0m \u001b[0mintervals\u001b[0m \u001b[0mare\u001b[0m \u001b[0malways\u001b[0m\u001b[0;34m\u001b[0m\u001b[0;34m\u001b[0m\u001b[0m\n\u001b[1;32m    873\u001b[0m         \u001b[0mdeterministic\u001b[0m\u001b[0;34m.\u001b[0m\u001b[0;34m\u001b[0m\u001b[0;34m\u001b[0m\u001b[0m\n",
      "\u001b[0;31mException\u001b[0m: `initial_train_size` must be greater than forecaster's window_size (10)."
     ]
    }
   ],
   "source": [
    "# Grid search de hiperparámetros\n",
    "# ==============================================================================\n",
    "forecaster = ForecasterAutoreg(\n",
    "                regressor = RandomForestRegressor(random_state=123),\n",
    "                lags      = 4 # Este valor será remplazado en el grid search\n",
    "             )\n",
    "\n",
    "# Hiperparámetros del regresor\n",
    "param_grid = {'n_estimators': [100, 500],\n",
    "              'max_depth': [3, 5, 10]}\n",
    "\n",
    "# Lags utilizados como predictores\n",
    "lags_grid = [10, 20]\n",
    "\n",
    "resultados_grid = grid_search_forecaster(\n",
    "                        forecaster         = forecaster,\n",
    "                        y                  = train['qtysold'],\n",
    "                        param_grid         = param_grid,\n",
    "                        lags_grid          = lags_grid,\n",
    "                        steps              = 10,\n",
    "                        refit              = True,\n",
    "                        metric             = 'mean_squared_error',\n",
    "                        initial_train_size = int(len(train)*0.5),\n",
    "                        return_best        = True,\n",
    "                        verbose            = False\n",
    "                   )"
   ]
  },
  {
   "cell_type": "code",
   "execution_count": null,
   "id": "5391b54c-6ff4-47fd-8c47-19cf7d39fdf4",
   "metadata": {},
   "outputs": [],
   "source": [
    "# Resultados Grid Search\n",
    "# ==============================================================================\n",
    "resultados_grid"
   ]
  },
  {
   "cell_type": "code",
   "execution_count": null,
   "id": "647cf4ef-bb70-4b09-9e4d-f396ac171bf1",
   "metadata": {},
   "outputs": [],
   "source": [
    "# MODELO FINAL\n",
    "# Crear y entrenar forecaster con mejores hiperparámetros\n",
    "# ==============================================================================\n",
    "regressor = RandomForestRegressor(max_depth=3, n_estimators=500, random_state=123)\n",
    "forecaster = ForecasterAutoreg(\n",
    "                regressor = regressor,\n",
    "                lags      = 20\n",
    "             )\n",
    "forecaster.fit(y=train['qtysold'])"
   ]
  },
  {
   "cell_type": "code",
   "execution_count": null,
   "id": "77c41a23-05a7-4e72-b74c-241b40b7869c",
   "metadata": {},
   "outputs": [],
   "source": [
    "# Predicciones\n",
    "# ==============================================================================\n",
    "predicciones = forecaster.predict(steps=steps)"
   ]
  },
  {
   "cell_type": "code",
   "execution_count": null,
   "id": "c66b08b7-c0c6-465b-b64a-7b45465b47bc",
   "metadata": {},
   "outputs": [],
   "source": [
    "# Gráfico\n",
    "# ==============================================================================\n",
    "fig, ax = plt.subplots(figsize=(9, 4))\n",
    "train['qtysold'].plot(ax=ax, label='train')\n",
    "test['qtysold'].plot(ax=ax, label='test')\n",
    "predicciones.plot(ax=ax, label='predicciones')\n",
    "ax.legend();\n"
   ]
  },
  {
   "cell_type": "code",
   "execution_count": null,
   "id": "c83e2db4-f506-4d48-b1e7-7493ebab75ad",
   "metadata": {},
   "outputs": [],
   "source": [
    "# Error de test\n",
    "# ==============================================================================\n",
    "error_mse = mean_squared_error(\n",
    "                y_true = datos_test['qtysold'],\n",
    "                y_pred = predicciones\n",
    "            )\n",
    "print(f\"Error de test (mse) {error_mse}\")"
   ]
  }
 ],
 "metadata": {
  "kernelspec": {
   "display_name": "Python",
   "language": "python",
   "name": "conda-env-python-py"
  },
  "language_info": {
   "codemirror_mode": {
    "name": "ipython",
    "version": 3
   },
   "file_extension": ".py",
   "mimetype": "text/x-python",
   "name": "python",
   "nbconvert_exporter": "python",
   "pygments_lexer": "ipython3",
   "version": "3.7.12"
  }
 },
 "nbformat": 4,
 "nbformat_minor": 5
}
